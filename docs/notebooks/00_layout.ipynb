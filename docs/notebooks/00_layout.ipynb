{
 "cells": [
  {
   "cell_type": "markdown",
   "id": "9a27187a",
   "metadata": {},
   "source": [
    "# Layout\n",
    "\n",
    "All UBC ubcpdk.components cells are conveniently combined into the ubcpdk.components module."
   ]
  },
  {
   "cell_type": "code",
   "execution_count": null,
   "id": "1e2dfd9b",
   "metadata": {},
   "outputs": [],
   "source": [
    "import gdsfactory as gf\n",
    "\n",
    "import ubcpdk\n",
    "\n",
    "gf.CONF.display_type = \"klayout\""
   ]
  },
  {
   "cell_type": "markdown",
   "id": "5ff8f212",
   "metadata": {},
   "source": [
    "## Fixed Component cells\n",
    "\n",
    "Most `ubcpdk` components are imported from GDS files as fixed cells."
   ]
  },
  {
   "cell_type": "code",
   "execution_count": null,
   "id": "cff0d620",
   "metadata": {},
   "outputs": [],
   "source": [
    "c = ubcpdk.components.ebeam_crossing4()\n",
    "c.plot()"
   ]
  },
  {
   "cell_type": "code",
   "execution_count": null,
   "id": "1275e6a7",
   "metadata": {},
   "outputs": [],
   "source": [
    "c = ubcpdk.components.ebeam_swg_edgecoupler()\n",
    "c.plot()"
   ]
  },
  {
   "cell_type": "code",
   "execution_count": null,
   "id": "83c885a0",
   "metadata": {},
   "outputs": [],
   "source": [
    "c = ubcpdk.components.ebeam_bdc_te1550()\n",
    "c.plot()"
   ]
  },
  {
   "cell_type": "code",
   "execution_count": null,
   "id": "7c185343",
   "metadata": {},
   "outputs": [],
   "source": [
    "c = ubcpdk.components.ebeam_adiabatic_te1550()\n",
    "c.plot()"
   ]
  },
  {
   "cell_type": "code",
   "execution_count": null,
   "id": "6a235259",
   "metadata": {},
   "outputs": [],
   "source": [
    "c = ubcpdk.components.ebeam_y_adiabatic()\n",
    "c.plot()"
   ]
  },
  {
   "cell_type": "code",
   "execution_count": null,
   "id": "8af49e8a",
   "metadata": {},
   "outputs": [],
   "source": [
    "c = ubcpdk.components.ebeam_y_1550()\n",
    "c.plot()"
   ]
  },
  {
   "cell_type": "markdown",
   "id": "ccfae4d2",
   "metadata": {},
   "source": [
    "## Parametric Component PCells\n",
    "\n",
    "You can also define cells adapted from gdsfactory generic pdk."
   ]
  },
  {
   "cell_type": "code",
   "execution_count": null,
   "id": "7bff697c",
   "metadata": {},
   "outputs": [],
   "source": [
    "c = ubcpdk.components.straight(length=2)\n",
    "c.plot()"
   ]
  },
  {
   "cell_type": "code",
   "execution_count": null,
   "id": "3891d5ac",
   "metadata": {},
   "outputs": [],
   "source": [
    "c = ubcpdk.components.bend_euler(radius=5)\n",
    "c.plot()"
   ]
  },
  {
   "cell_type": "code",
   "execution_count": null,
   "id": "5179d03b",
   "metadata": {},
   "outputs": [],
   "source": [
    "c = ubcpdk.components.ring_with_crossing()\n",
    "c.plot()"
   ]
  },
  {
   "cell_type": "code",
   "execution_count": null,
   "id": "57e8b0f0",
   "metadata": {},
   "outputs": [],
   "source": [
    "c = ubcpdk.components.dbr()\n",
    "c.plot()"
   ]
  },
  {
   "cell_type": "code",
   "execution_count": null,
   "id": "a962eb0a",
   "metadata": {},
   "outputs": [],
   "source": [
    "c = ubcpdk.components.spiral()\n",
    "c.plot()"
   ]
  },
  {
   "cell_type": "code",
   "execution_count": null,
   "id": "d1d9634e",
   "metadata": {},
   "outputs": [],
   "source": [
    "c = ubcpdk.components.mzi_heater()\n",
    "c.plot()"
   ]
  },
  {
   "cell_type": "code",
   "execution_count": null,
   "id": "d348c4c8",
   "metadata": {},
   "outputs": [],
   "source": [
    "c = ubcpdk.components.ring_single_heater()\n",
    "c.plot()"
   ]
  },
  {
   "cell_type": "markdown",
   "id": "f3a3e792",
   "metadata": {},
   "source": [
    "## Components with grating couplers\n",
    "\n",
    "To test your devices you can add grating couplers. Both for single fibers and for fiber arrays."
   ]
  },
  {
   "cell_type": "code",
   "execution_count": null,
   "id": "6103f4cc",
   "metadata": {},
   "outputs": [],
   "source": [
    "splitter = ubcpdk.components.ebeam_y_1550(decorator=gf.port.auto_rename_ports)\n",
    "mzi = gf.components.mzi(splitter=splitter)\n",
    "mzi.plot()"
   ]
  },
  {
   "cell_type": "code",
   "execution_count": null,
   "id": "fe809f5a",
   "metadata": {},
   "outputs": [],
   "source": [
    "component_fiber_array = ubcpdk.components.add_fiber_array(component=mzi)\n",
    "component_fiber_array.plot()"
   ]
  },
  {
   "cell_type": "code",
   "execution_count": null,
   "id": "9e824506",
   "metadata": {},
   "outputs": [],
   "source": [
    "c = ubcpdk.components.ring_single_heater()\n",
    "c = ubcpdk.components.add_fiber_array_pads_rf(c)\n",
    "c.plot()"
   ]
  },
  {
   "cell_type": "code",
   "execution_count": null,
   "id": "e291dcf7",
   "metadata": {},
   "outputs": [],
   "source": [
    "c = ubcpdk.components.mzi_heater()\n",
    "c = ubcpdk.components.add_fiber_array_pads_rf(c, optical_routing_type=2)\n",
    "c.plot()"
   ]
  },
  {
   "cell_type": "markdown",
   "id": "61e47076",
   "metadata": {},
   "source": [
    "## 3D rendering"
   ]
  },
  {
   "cell_type": "code",
   "execution_count": null,
   "id": "a4c9f5cb",
   "metadata": {},
   "outputs": [],
   "source": [
    "scene = c.to_3d()\n",
    "scene.show()"
   ]
  },
  {
   "cell_type": "markdown",
   "id": "420144d7",
   "metadata": {},
   "source": [
    "## Die assembly"
   ]
  },
  {
   "cell_type": "code",
   "execution_count": null,
   "id": "4daec89a",
   "metadata": {},
   "outputs": [],
   "source": [
    "from functools import partial\n",
    "from pathlib import Path\n",
    "\n",
    "import gdsfactory as gf\n",
    "\n",
    "import ubcpdk\n",
    "import ubcpdk.components as pdk\n",
    "from ubcpdk import tech\n",
    "from ubcpdk.tech import LAYER\n",
    "\n",
    "\n",
    "size = (440, 470)\n",
    "add_gc = ubcpdk.components.add_fiber_array\n",
    "pack = partial(\n",
    "    gf.pack, max_size=size, add_ports_prefix=False, add_ports_suffix=False, spacing=2\n",
    ")\n",
    "\n",
    "@gf.cell\n",
    "def EBeam_JoaquinMatres_1() -> gf.Component:\n",
    "    \"\"\"Add DBR cavities.\"\"\"\n",
    "    e = [add_gc(ubcpdk.components.straight())]\n",
    "    e += [add_gc(gf.components.mzi(delta_length=dl)) for dl in [9.32, 93.19]]\n",
    "    e += [\n",
    "        add_gc(gf.components.ring_single(radius=12, gap=gap, length_x=coupling_length))\n",
    "        for gap in [0.2]\n",
    "        for coupling_length in [2.5, 4.5, 6.5]\n",
    "    ]\n",
    "\n",
    "    e += [\n",
    "        ubcpdk.components.dbr_cavity_te(w0=w0, dw=dw)\n",
    "        for w0 in [0.5]\n",
    "        for dw in [50e-3, 100e-3, 150e-3, 200e-3]\n",
    "    ]\n",
    "    e += [add_gc(ubcpdk.components.ring_with_crossing())]\n",
    "    e += [\n",
    "        add_gc(\n",
    "            ubcpdk.components.ring_with_crossing(port_name=\"o2\", with_component=False)\n",
    "        )\n",
    "    ]\n",
    "\n",
    "    c = gf.Component()\n",
    "    _ = c << pack(e)[0]\n",
    "    _ = c << gf.components.rectangle(size=size, layer=LAYER.FLOORPLAN)\n",
    "    return c\n",
    "\n",
    "gf.clear_cache()\n",
    "c = EBeam_JoaquinMatres_1()\n",
    "c.show() # show in klayout\n",
    "c.plot() # plot in notebook"
   ]
  },
  {
   "cell_type": "code",
   "execution_count": null,
   "id": "1ed290ae",
   "metadata": {},
   "outputs": [],
   "source": []
  }
 ],
 "metadata": {
  "jupytext": {
   "custom_cell_magics": "kql"
  },
  "kernelspec": {
   "display_name": "Python 3 (ipykernel)",
   "language": "python",
   "name": "python3"
  },
  "language_info": {
   "codemirror_mode": {
    "name": "ipython",
    "version": 3
   },
   "file_extension": ".py",
   "mimetype": "text/x-python",
   "name": "python",
   "nbconvert_exporter": "python",
   "pygments_lexer": "ipython3",
   "version": "3.11.4"
  }
 },
 "nbformat": 4,
 "nbformat_minor": 5
}
