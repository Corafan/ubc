{
 "cells": [
  {
   "cell_type": "markdown",
   "metadata": {},
   "source": [
    "# Write Sparameters using Lumerical FDTD\n",
    "\n",
    "You can write the [Sparameters](https://en.wikipedia.org/wiki/Scattering_parameters) for all components in the UBC PDK "
   ]
  },
  {
   "cell_type": "markdown",
   "metadata": {},
   "source": [
    "```\n",
    "import ubc\n",
    "from ubc.tech import TECH\n",
    "from ubc.pdk import COMPONENT_FACTORY\n",
    "\n",
    "for component_factory in COMPONENT_FACTORY.factory.values():\n",
    "    component = component_factory()\n",
    "    component.plot()\n",
    "    pp.sp.write_sparameters(component=component)\n",
    "    \n",
    "pp.sp.read_sparameters_lumerical(component=ubc.pdk.straight())\n",
    "```"
   ]
  },
  {
   "cell_type": "code",
   "execution_count": null,
   "metadata": {},
   "outputs": [],
   "source": []
  }
 ],
 "metadata": {
  "kernelspec": {
   "display_name": "Python 3",
   "language": "python",
   "name": "python3"
  },
  "language_info": {
   "codemirror_mode": {
    "name": "ipython",
    "version": 3
   },
   "file_extension": ".py",
   "mimetype": "text/x-python",
   "name": "python",
   "nbconvert_exporter": "python",
   "pygments_lexer": "ipython3",
   "version": "3.8.3"
  }
 },
 "nbformat": 4,
 "nbformat_minor": 4
}
