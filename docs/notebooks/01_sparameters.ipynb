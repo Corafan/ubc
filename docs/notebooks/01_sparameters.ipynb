{
 "cells": [
  {
   "cell_type": "markdown",
   "metadata": {},
   "source": [
    "# Write Sparameters using Lumerical FDTD\n",
    "\n",
    "You can write the [Sparameters](https://en.wikipedia.org/wiki/Scattering_parameters) for all components in the UBC ubc.components"
   ]
  },
  {
   "cell_type": "code",
   "execution_count": null,
   "metadata": {
    "lines_to_next_cell": 2
   },
   "outputs": [],
   "source": [
    "import gdsfactory as gf\n",
    "import gdsfactory.simulation as sim\n",
    "import ubc\n",
    "\n",
    "for component_factory in ubc.components.LIBRARY.factory.values():\n",
    "    component = component_factory()\n",
    "    component.plot()\n",
    "    # sim.write_sparameters_lumerical(component=component)"
   ]
  },
  {
   "cell_type": "code",
   "execution_count": null,
   "metadata": {},
   "outputs": [],
   "source": [
    "# sp.read_sparameters_component(component=ubc.components.straight())"
   ]
  },
  {
   "cell_type": "code",
   "execution_count": null,
   "metadata": {},
   "outputs": [],
   "source": [
    "# sp.plot(ubc.components.straight())"
   ]
  },
  {
   "cell_type": "code",
   "execution_count": null,
   "metadata": {},
   "outputs": [],
   "source": []
  }
 ],
 "metadata": {
  "kernelspec": {
   "display_name": "Python 3 (ipykernel)",
   "language": "python",
   "name": "python3"
  },
  "language_info": {
   "codemirror_mode": {
    "name": "ipython",
    "version": 3
   },
   "file_extension": ".py",
   "mimetype": "text/x-python",
   "name": "python",
   "nbconvert_exporter": "python",
   "pygments_lexer": "ipython3",
   "version": "3.9.7"
  }
 },
 "nbformat": 4,
 "nbformat_minor": 4
}
