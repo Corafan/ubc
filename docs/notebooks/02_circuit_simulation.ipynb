{
 "cells": [
  {
   "cell_type": "markdown",
   "metadata": {},
   "source": [
    "# Component Circuit Models and Simulations\n",
    "\n",
    "You can describe a component linear response with its [Scattering parameters](https://en.wikipedia.org/wiki/Scattering_parameters)\n",
    "\n",
    "The Scattering matrix of a component can be simulated with electromagnetic methods such as Finite difference time domain (FDTD)\n",
    "\n",
    "[Simphony](https://simphonyphotonics.readthedocs.io/en/latest/) open source package provides you with some of the the circuit linear solver to solve the circuit response of several components connected in a circuit. Simphony also has some of the UBC models built-in.\n",
    "\n",
    "For some components not available in simphony you can leverage gdsfactory FDTD lumerical interface to compute the Sparameters of a component."
   ]
  },
  {
   "cell_type": "code",
   "execution_count": null,
   "metadata": {},
   "outputs": [],
   "source": [
    "import matplotlib.pyplot as plt\n",
    "import numpy as np\n",
    "import gdslib as gl\n",
    "from ubc.pdk import PDK\n",
    "import ubc.circuits as cm\n",
    "from simphony.library import ebeam\n",
    "\n",
    "PDK.dc_broadband_te()"
   ]
  },
  {
   "cell_type": "code",
   "execution_count": null,
   "metadata": {},
   "outputs": [],
   "source": [
    "bdc = ebeam.ebeam_bdc_te1550()\n",
    "w = np.linspace(1520, 1580)*1e-9\n",
    "f = 3e8/w\n",
    "s = bdc.s_parameters(freq=f)\n",
    "plt.plot(w*1e9, np.abs(s[:, 0, 2])**2)\n",
    "plt.plot(w*1e9, np.abs(s[:, 0, 3])**2)"
   ]
  },
  {
   "cell_type": "code",
   "execution_count": null,
   "metadata": {},
   "outputs": [],
   "source": [
    "PDK.mzi(delta_length=100)"
   ]
  },
  {
   "cell_type": "code",
   "execution_count": null,
   "metadata": {},
   "outputs": [],
   "source": [
    "circuit = cm.add_grating_coupler(cm.mzi(delta_length=100))\n",
    "gl.plot_circuit(circuit)"
   ]
  },
  {
   "cell_type": "code",
   "execution_count": null,
   "metadata": {},
   "outputs": [],
   "source": [
    "circuit = cm.add_grating_coupler(cm.mzi(delta_length=10.))\n",
    "gl.plot_circuit(circuit)"
   ]
  }
 ],
 "metadata": {
  "kernelspec": {
   "display_name": "Python 3",
   "language": "python",
   "name": "python3"
  },
  "language_info": {
   "codemirror_mode": {
    "name": "ipython",
    "version": 3
   },
   "file_extension": ".py",
   "mimetype": "text/x-python",
   "name": "python",
   "nbconvert_exporter": "python",
   "pygments_lexer": "ipython3",
   "version": "3.8.3"
  }
 },
 "nbformat": 4,
 "nbformat_minor": 4
}
