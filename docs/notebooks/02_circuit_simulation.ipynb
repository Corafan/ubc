{
 "cells": [
  {
   "cell_type": "markdown",
   "metadata": {},
   "source": [
    "# Circuit simulation\n",
    "\n",
    "You can describe a component linear response with its [Scattering parameters](https://en.wikipedia.org/wiki/Scattering_parameters)\n",
    "\n",
    "The Scattering matrix of a component can be simulated with electromagnetic methods such as Finite difference time domain (FDTD)\n",
    "\n",
    "[Simphony](https://simphonyphotonics.readthedocs.io/en/latest/) open source package provides you with some of the the circuit linear solver to solve the circuit response of several components connected in a circuit. Simphony also has some of the UBC models built-in.\n",
    "\n",
    "For some components not available in simphony you can leverage gdsfactory FDTD lumerical interface to compute the Sparameters of a component."
   ]
  },
  {
   "cell_type": "code",
   "execution_count": null,
   "metadata": {},
   "outputs": [],
   "source": [
    "import matplotlib.pyplot as plt\n",
    "import numpy as np\n",
    "import gdslib.simphony as gs\n",
    "from simphony.library import ebeam\n",
    "\n",
    "import gdsfactory as gf\n",
    "import ubcpdk\n",
    "import ubcpdk.simulation.circuits as cm\n",
    "\n",
    "ubcpdk.components.dc_broadband_te()"
   ]
  },
  {
   "cell_type": "code",
   "execution_count": null,
   "metadata": {},
   "outputs": [],
   "source": [
    "bdc = ebeam.ebeam_bdc_te1550()\n",
    "w = np.linspace(1520, 1580) * 1e-9\n",
    "f = 3e8 / w\n",
    "s = bdc.s_parameters(freq=f)\n",
    "plt.plot(w * 1e9, np.abs(s[:, 0, 2]) ** 2)\n",
    "plt.plot(w * 1e9, np.abs(s[:, 0, 3]) ** 2)"
   ]
  },
  {
   "cell_type": "code",
   "execution_count": null,
   "metadata": {},
   "outputs": [],
   "source": [
    "gf.components.mzi(delta_length=100)"
   ]
  },
  {
   "cell_type": "code",
   "execution_count": null,
   "metadata": {},
   "outputs": [],
   "source": [
    "circuit = cm.add_grating_coupler(cm.mzi(delta_length=100))\n",
    "gs.plot_circuit(circuit)"
   ]
  },
  {
   "cell_type": "code",
   "execution_count": null,
   "metadata": {},
   "outputs": [],
   "source": [
    "circuit = cm.add_grating_coupler(cm.mzi(delta_length=10.0))\n",
    "gs.plot_circuit(circuit)"
   ]
  },
  {
   "cell_type": "code",
   "execution_count": null,
   "metadata": {},
   "outputs": [],
   "source": []
  }
 ],
 "metadata": {
  "kernelspec": {
   "display_name": "Python 3 (ipykernel)",
   "language": "python",
   "name": "python3"
  },
  "language_info": {
   "codemirror_mode": {
    "name": "ipython",
    "version": 3
   },
   "file_extension": ".py",
   "mimetype": "text/x-python",
   "name": "python",
   "nbconvert_exporter": "python",
   "pygments_lexer": "ipython3",
   "version": "3.9.5"
  }
 },
 "nbformat": 4,
 "nbformat_minor": 4
}
