{
 "cells": [
  {
   "cell_type": "markdown",
   "id": "c85f037e-9555-4fa7-b0b9-abc26c740f62",
   "metadata": {},
   "source": [
    "# Grating coupler FDTD simulations\n",
    "\n",
    "You can also expand the planar component simulations to simulate an out-of-plane grating coupler.\n",
    "\n",
    "You can run grating coupler simulations in 2D to save time, and for accuracy you can also run them in 3D\n",
    "\n",
    "## tidy3d"
   ]
  },
  {
   "cell_type": "code",
   "execution_count": null,
   "id": "2cf7143d-9374-43ab-89ab-152d6a75b20f",
   "metadata": {},
   "outputs": [],
   "source": [
    "import numpy as np\n",
    "import matplotlib.pyplot as plt\n",
    "\n",
    "import gdsfactory.simulation as sim\n",
    "import gdsfactory as gf\n",
    "import gdsfactory.simulation.gtidy3d as gt\n",
    "\n",
    "import ubcpdk\n",
    "import ubcpdk.components as pdk\n",
    "\n",
    "c = pdk.ebeam_gc_te1550(decorator=gf.port.auto_rename_ports)\n",
    "c"
   ]
  },
  {
   "cell_type": "code",
   "execution_count": null,
   "id": "ee780b72-40f3-4b80-9d81-45158f89d5f1",
   "metadata": {},
   "outputs": [],
   "source": [
    "fiber_angle_deg = -31\n",
    "s = gt.get_simulation_grating_coupler(\n",
    "    c, is_3d=False, fiber_angle_deg=fiber_angle_deg, fiber_xoffset=0\n",
    ")\n",
    "f = gt.plot_simulation(s)"
   ]
  },
  {
   "cell_type": "code",
   "execution_count": null,
   "id": "40f01369-f41e-4df7-b07c-cd96eee72b68",
   "metadata": {},
   "outputs": [],
   "source": [
    "offsets = np.arange(-5, 6, 5)\n",
    "sparams = [\n",
    "    gt.write_sparameters_grating_coupler(\n",
    "        component=c,\n",
    "        is_3d=False,\n",
    "        fiber_angle_deg=fiber_angle_deg,\n",
    "        fiber_xoffset=fiber_xoffset,\n",
    "    )\n",
    "    for fiber_xoffset in offsets\n",
    "]"
   ]
  },
  {
   "cell_type": "code",
   "execution_count": null,
   "id": "95a9c59a-64b6-4038-af40-5bda89100743",
   "metadata": {},
   "outputs": [],
   "source": [
    "def log(x):\n",
    "    return 20 * np.log10(x)"
   ]
  },
  {
   "cell_type": "code",
   "execution_count": null,
   "id": "fc46b878-492c-4dcf-94a9-1eb1378f9daf",
   "metadata": {},
   "outputs": [],
   "source": [
    "for offset in offsets:\n",
    "    sp = gt.write_sparameters_grating_coupler(\n",
    "        c, is_3d=False, fiber_angle_deg=fiber_angle_deg, fiber_xoffset=offset\n",
    "    )\n",
    "    plt.plot(\n",
    "        sp[\"wavelengths\"], 20 * np.log10(np.abs(sp[\"vertical_te@0,o1@0\"])), label=str(offset)\n",
    "    )\n",
    "\n",
    "plt.xlabel(\"wavelength (um\")\n",
    "plt.ylabel(\"Transmission (dB)\")\n",
    "plt.title(\"transmission vs fiber xoffset (um)\")\n",
    "plt.legend()"
   ]
  }
 ],
 "metadata": {
  "kernelspec": {
   "display_name": "Python 3 (ipykernel)",
   "language": "python",
   "name": "python3"
  },
  "language_info": {
   "codemirror_mode": {
    "name": "ipython",
    "version": 3
   },
   "file_extension": ".py",
   "mimetype": "text/x-python",
   "name": "python",
   "nbconvert_exporter": "python",
   "pygments_lexer": "ipython3",
   "version": "3.10.6"
  }
 },
 "nbformat": 4,
 "nbformat_minor": 5
}
