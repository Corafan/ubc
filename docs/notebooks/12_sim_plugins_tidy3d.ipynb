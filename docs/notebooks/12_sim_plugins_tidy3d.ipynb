{
 "cells": [
  {
   "cell_type": "markdown",
   "metadata": {},
   "source": [
    "# Circuit simulations (tidy3d + SAX)\n",
    "\n",
    "![](https://i.imgur.com/RSOTDIN.png)\n",
    "\n",
    "Sparameters are common in RF and photonic simulation.\n",
    "\n",
    "We are going to simulate a MZI interferometer circuit.\n",
    "\n",
    "For that we need to simulate each of the component Sparameters in tidy3d and then SAX Sparameter circuit solver to solve the Sparameters for the circuit.\n",
    "\n",
    "We will be using SAX which is open source and tidy3d which requires you to create an account to run simulations in tidy3d cloud.\n",
    "\n",
    "\n",
    "```\n",
    "set PIP_FIND_LINKS=\"https://whls.blob.core.windows.net/unstable/index.html\"\n",
    "pip install sax jax sklearn\n",
    "pip install \"jaxlib[cuda111]\" -f https://whls.blob.core.windows.net/unstable/index.html --use-deprecated legacy-resolver\n",
    "pip install \"gdsfactory[tidy3d,sax]\"\n",
    "```"
   ]
  },
  {
   "cell_type": "markdown",
   "metadata": {},
   "source": [
    "## tidy3d FDTD simulations\n",
    "\n",
    "Lets compute the Sparameters of a 1x2 power splitter using tidy3d.\n",
    "\n",
    "[tidy3D](https://docs.flexcompute.com/projects/tidy3d/en/latest/) is a fast GPU based FDTD tool developed by flexcompute.\n",
    "\n",
    "To run, you need to [create an account](https://simulation.cloud/) and add credits. The number of credits that each simulation takes depends on the simulation computation time.\n",
    "\n",
    "![cloud_model](https://i.imgur.com/5VTCPLR.png)\n"
   ]
  },
  {
   "cell_type": "code",
   "execution_count": null,
   "metadata": {},
   "outputs": [],
   "source": [
    "import gdsfactory.simulation as sim\n",
    "import gdsfactory as gf\n",
    "import gdsfactory.simulation.gtidy3d as gt\n",
    "\n",
    "import ubcpdk\n",
    "import ubcpdk.components as pdk"
   ]
  },
  {
   "cell_type": "code",
   "execution_count": null,
   "metadata": {},
   "outputs": [],
   "source": [
    "c = pdk.ebeam_y_1550()\n",
    "c"
   ]
  },
  {
   "cell_type": "markdown",
   "metadata": {},
   "source": [
    "GDSfactory FDTD plugins work better with the standard GDSfactory port naming convention.\n",
    "\n",
    "```\n",
    "    3   4\n",
    "    |___|_\n",
    "2 -|      |- 5\n",
    "   |      |\n",
    "1 -|______|- 6\n",
    "    |   |\n",
    "    8   7\n",
    "    \n",
    "```\n",
    "\n",
    "You can easily auto-rename the component ports."
   ]
  },
  {
   "cell_type": "code",
   "execution_count": null,
   "metadata": {},
   "outputs": [],
   "source": [
    "c2 = pdk.ebeam_y_1550(decorator=gf.port.auto_rename_ports)\n",
    "c2"
   ]
  },
  {
   "cell_type": "code",
   "execution_count": null,
   "metadata": {},
   "outputs": [],
   "source": [
    "sp = gt.write_sparameters(c2)"
   ]
  },
  {
   "cell_type": "code",
   "execution_count": null,
   "metadata": {},
   "outputs": [],
   "source": [
    "sim.plot.plot_sparameters(sp)"
   ]
  },
  {
   "cell_type": "code",
   "execution_count": null,
   "metadata": {},
   "outputs": [],
   "source": [
    "sim.plot.plot_loss1x2(sp)"
   ]
  },
  {
   "cell_type": "markdown",
   "metadata": {},
   "source": [
    "## Circuit simulation\n"
   ]
  },
  {
   "cell_type": "code",
   "execution_count": null,
   "metadata": {},
   "outputs": [],
   "source": [
    "mzi10 = gf.components.mzi(splitter=c2, delta_length=10)\n",
    "mzi10"
   ]
  },
  {
   "cell_type": "code",
   "execution_count": null,
   "metadata": {},
   "outputs": [],
   "source": [
    "import matplotlib.pyplot as plt\n",
    "import numpy as np\n",
    "import jax.numpy as jnp\n",
    "from omegaconf import OmegaConf\n",
    "import sax\n",
    "\n",
    "import gdsfactory as gf\n",
    "import gdsfactory.simulation.sax as gsax"
   ]
  },
  {
   "cell_type": "code",
   "execution_count": null,
   "metadata": {},
   "outputs": [],
   "source": [
    "def straight(wl=1.5, length=10.0, neff=2.4) -> sax.SDict:\n",
    "    wl0 = 1.5  # center wavelength for which the waveguide model is defined\n",
    "    return sax.reciprocal({(\"o1\", \"o2\"): jnp.exp(2j * jnp.pi * neff * length / wl)})\n",
    "\n",
    "\n",
    "def bend_euler(wl=1.5, length=20.0):\n",
    "    \"\"\" \"Let's assume a reduced transmission for the euler bend compared to a straight\"\"\"\n",
    "    return {k: 0.99 * v for k, v in straight(wl=wl, length=length).items()}\n"
   ]
  },
  {
   "cell_type": "code",
   "execution_count": null,
   "metadata": {},
   "outputs": [],
   "source": [
    "ebeam_y_1550 = gsax.read.model_from_npz(sp)"
   ]
  },
  {
   "cell_type": "code",
   "execution_count": null,
   "metadata": {},
   "outputs": [],
   "source": [
    "netlist = mzi10.get_netlist()\n",
    "circuit, _ = sax.circuit(\n",
    "    netlist=netlist,\n",
    "    models={\n",
    "        \"bend_euler\": bend_euler,\n",
    "        \"ebeam_y_1550\": ebeam_y_1550,\n",
    "        \"straight\": straight,\n",
    "    },\n",
    ")"
   ]
  },
  {
   "cell_type": "code",
   "execution_count": null,
   "metadata": {},
   "outputs": [],
   "source": [
    "wl = np.linspace(1.5, 1.6)\n",
    "S = circuit(wl=wl)\n",
    "plt.figure(figsize=(14, 4))\n",
    "plt.title(\"MZI\")\n",
    "plt.plot(1e3 * wl, 10*np.log10(jnp.abs(S[\"o1\", \"o2\"]) ** 2))\n",
    "plt.xlabel(\"λ [nm]\")\n",
    "plt.ylabel(\"T\")\n",
    "plt.grid(True)\n",
    "plt.show()"
   ]
  },
  {
   "cell_type": "code",
   "execution_count": null,
   "metadata": {},
   "outputs": [],
   "source": [
    "mzi20 = gf.components.mzi(splitter=c2, delta_length=20)\n",
    "mzi20"
   ]
  },
  {
   "cell_type": "code",
   "execution_count": null,
   "metadata": {},
   "outputs": [],
   "source": [
    "netlist = mzi20.get_netlist()\n",
    "circuit, _ = sax.circuit(\n",
    "    netlist=netlist,\n",
    "    models={\n",
    "        \"bend_euler\": bend_euler,\n",
    "        \"ebeam_y_1550\": ebeam_y_1550,\n",
    "        \"straight\": straight,\n",
    "    },\n",
    ")"
   ]
  },
  {
   "cell_type": "code",
   "execution_count": null,
   "metadata": {},
   "outputs": [],
   "source": [
    "wl = np.linspace(1.5, 1.6)\n",
    "S = circuit(wl=wl)\n",
    "plt.figure(figsize=(14, 4))\n",
    "plt.title(\"MZI\")\n",
    "plt.plot(1e3 * wl, 10*np.log10(jnp.abs(S[\"o1\", \"o2\"]) ** 2))\n",
    "plt.xlabel(\"λ [nm]\")\n",
    "plt.ylabel(\"T\")\n",
    "plt.grid(True)\n",
    "plt.show()"
   ]
  }
 ],
 "metadata": {
  "kernelspec": {
   "display_name": "Python 3 (ipykernel)",
   "language": "python",
   "name": "python3"
  },
  "language_info": {
   "codemirror_mode": {
    "name": "ipython",
    "version": 3
   },
   "file_extension": ".py",
   "mimetype": "text/x-python",
   "name": "python",
   "nbconvert_exporter": "python",
   "pygments_lexer": "ipython3",
   "version": "3.10.6"
  }
 },
 "nbformat": 4,
 "nbformat_minor": 4
}
