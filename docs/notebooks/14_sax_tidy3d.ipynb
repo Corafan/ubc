{
 "cells": [
  {
   "cell_type": "markdown",
   "id": "1fa09f47-ec17-4d2f-abf1-94400b45731a",
   "metadata": {},
   "source": [
    "# SAX circuit simulator\n",
    "\n",
    "[SAX](https://flaport.github.io/sax/) is a circuit solver written in JAX, writing your component models in SAX enables you not only to get the function values but the gradients, this is useful for circuit optimization.\n",
    "\n",
    "This tutorial has been adapted from the SAX Quick Start.\n",
    "\n",
    "You can install sax with pip (read the SAX install instructions [here](https://github.com/flaport/sax#installation))\n",
    "\n",
    "```\n",
    "pip install 'gdsfactory[sax]'\n",
    "```"
   ]
  },
  {
   "cell_type": "code",
   "execution_count": null,
   "id": "0cbb9797-1aa0-4864-8fd4-bdf6b8718b0c",
   "metadata": {},
   "outputs": [],
   "source": [
    "from tqdm import trange\n",
    "from tqdm.notebook import tqdm, trange\n",
    "from numpy.fft import fft2, fftfreq, fftshift, ifft2\n",
    "\n",
    "from typing import List\n",
    "from functools import partial\n",
    "import sys\n",
    "import itertools\n",
    "from pprint import pprint\n",
    "from omegaconf import OmegaConf\n",
    "import numpy as np\n",
    "from scipy.constants import c\n",
    "import matplotlib.pyplot as plt\n",
    "\n",
    "import jax.example_libraries.optimizers as opt\n",
    "import jax.numpy as jnp\n",
    "import jax\n",
    "\n",
    "from gdsfactory.get_netlist import get_netlist as _get_netlist\n",
    "from gdsfactory.simulation.get_sparameters_path import get_sparameters_path_lumerical\n",
    "import gdsfactory as gf\n",
    "import gdsfactory.simulation.sax as gs\n",
    "import sax\n",
    "\n",
    "import gdsfactory.simulation.gtidy3d as gt\n",
    "gf.config.set_plot_options(show_subports=False)"
   ]
  },
  {
   "cell_type": "markdown",
   "id": "acb023da-1990-4e35-b760-e837ca799d1c",
   "metadata": {},
   "source": [
    "## Scatter *dictionaries*\n",
    "\n",
    "The core datastructure for specifying scatter parameters in SAX is a dictionary... more specifically a dictionary which maps a port combination (2-tuple) to a scatter parameter (or an array of scatter parameters when considering multiple wavelengths for example). Such a specific dictionary mapping is called ann `SDict` in SAX (`SDict ≈ Dict[Tuple[str,str], float]`).\n",
    "\n",
    "Dictionaries are in fact much better suited for characterizing S-parameters than, say, (jax-)numpy arrays due to the inherent sparse nature of scatter parameters. Moreover, dictionaries allow for string indexing, which makes them much more pleasant to use in this context.\n",
    "\n",
    "```\n",
    "o2            o3\n",
    "   \\        /\n",
    "    ========\n",
    "   /        \\\n",
    "o1            o4\n",
    "```"
   ]
  },
  {
   "cell_type": "code",
   "execution_count": null,
   "id": "2baac9ad-7e2d-4c8e-993c-528928c9f35a",
   "metadata": {},
   "outputs": [],
   "source": [
    "coupling = 0.5\n",
    "kappa = coupling**0.5\n",
    "tau = (1 - coupling) ** 0.5\n",
    "coupler_dict = {\n",
    "    (\"o1\", \"o4\"): tau,\n",
    "    (\"o4\", \"o1\"): tau,\n",
    "    (\"o1\", \"o3\"): 1j * kappa,\n",
    "    (\"o3\", \"o1\"): 1j * kappa,\n",
    "    (\"o2\", \"o4\"): 1j * kappa,\n",
    "    (\"o4\", \"o2\"): 1j * kappa,\n",
    "    (\"o2\", \"o3\"): tau,\n",
    "    (\"o3\", \"o2\"): tau,\n",
    "}\n",
    "coupler_dict"
   ]
  },
  {
   "cell_type": "markdown",
   "id": "fb6213ba-b169-4b16-8a9b-f38fb1bd918a",
   "metadata": {},
   "source": [
    " it can still be tedious to specify every port in the circuit manually. SAX therefore offers the `reciprocal` function, which auto-fills the reverse connection if the forward connection exist. For example:"
   ]
  },
  {
   "cell_type": "code",
   "execution_count": null,
   "id": "f62d8110-7f6f-4b88-8167-ffbcdad36019",
   "metadata": {},
   "outputs": [],
   "source": [
    "coupler_dict = sax.reciprocal(\n",
    "    {\n",
    "        (\"o1\", \"o4\"): tau,\n",
    "        (\"o1\", \"o3\"): 1j * kappa,\n",
    "        (\"o2\", \"o4\"): 1j * kappa,\n",
    "        (\"o2\", \"o3\"): tau,\n",
    "    }\n",
    ")\n",
    "\n",
    "coupler_dict"
   ]
  },
  {
   "cell_type": "markdown",
   "id": "12f9ab3f-8645-4aee-80ac-c6946a9d657e",
   "metadata": {},
   "source": [
    "## Parametrized Models\n",
    "\n",
    "Constructing such an `SDict` is easy, however, usually we're more interested in having parametrized models for our components. To parametrize the coupler `SDict`, just wrap it in a function to obtain a SAX `Model`, which is a keyword-only function mapping to an `SDict`:\n"
   ]
  },
  {
   "cell_type": "code",
   "execution_count": null,
   "id": "9aacbe90-b8d7-4cbd-bdad-309e7d34cffa",
   "metadata": {},
   "outputs": [],
   "source": [
    "def coupler(coupling=0.5) -> sax.SDict:\n",
    "    kappa = coupling**0.5\n",
    "    tau = (1 - coupling) ** 0.5\n",
    "    return sax.reciprocal(\n",
    "        {\n",
    "            (\"o1\", \"o4\"): tau,\n",
    "            (\"o1\", \"o3\"): 1j * kappa,\n",
    "            (\"o2\", \"o4\"): 1j * kappa,\n",
    "            (\"o2\", \"o3\"): tau,\n",
    "        }\n",
    "    )\n",
    "\n",
    "\n",
    "coupler(coupling=0.3)"
   ]
  },
  {
   "cell_type": "code",
   "execution_count": null,
   "id": "cc3ccb8f-6154-4cd7-8ce0-9b1a5aa8f581",
   "metadata": {},
   "outputs": [],
   "source": [
    "def waveguide(wl=1.55, wl0=1.55, neff=2.34, ng=3.4, length=10.0, loss=0.0) -> sax.SDict:\n",
    "    dwl = wl - wl0\n",
    "    dneff_dwl = (ng - neff) / wl0\n",
    "    neff = neff - dwl * dneff_dwl\n",
    "    phase = 2 * jnp.pi * neff * length / wl\n",
    "    transmission = 10 ** (-loss * length / 20) * jnp.exp(1j * phase)\n",
    "    return sax.reciprocal(\n",
    "        {\n",
    "            (\"o1\", \"o2\"): transmission,\n",
    "        }\n",
    "    )"
   ]
  },
  {
   "cell_type": "markdown",
   "id": "7e9ca43d-8182-4443-be8d-8c7213a26ed7",
   "metadata": {},
   "source": [
    "### Waveguide model\n",
    "\n",
    "You can create a dispersive waveguide model in SAX."
   ]
  },
  {
   "cell_type": "markdown",
   "id": "1432d022-d9da-4f5c-8089-0ace00c1461d",
   "metadata": {},
   "source": [
    "Lets compute the effective index `neff` and group index `ng` for a 1550nm 500nm straight waveguide"
   ]
  },
  {
   "cell_type": "code",
   "execution_count": null,
   "id": "62a7ca7b-bec8-488d-bb53-ce91e594c2cf",
   "metadata": {},
   "outputs": [],
   "source": [
    "strip = gt.modes.Waveguide(\n",
    "    wavelength=1.55,\n",
    "    wg_width=0.5,\n",
    "    wg_thickness=0.22,\n",
    "    slab_thickness=0.0,\n",
    "    ncore=\"si\",\n",
    "    nclad=\"sio2\",\n",
    ")\n",
    "strip.plot_Ex(0)  # TE"
   ]
  },
  {
   "cell_type": "code",
   "execution_count": null,
   "id": "97c5e308-84c6-435f-89d4-0ca0d4bbf12c",
   "metadata": {},
   "outputs": [],
   "source": [
    "neff = strip.neffs[0].real\n",
    "neff"
   ]
  },
  {
   "cell_type": "code",
   "execution_count": null,
   "id": "3770a492-454b-42e7-9d8b-44b121f89b9b",
   "metadata": {},
   "outputs": [],
   "source": [
    "nm = 1e-3\n",
    "ng = gt.modes.group_index(\n",
    "    wg_width=500 * nm,\n",
    "    wavelength=1.55,\n",
    "    wg_thickness=220 * nm,\n",
    "    slab_thickness=0 * nm,\n",
    "    ncore=\"si\",\n",
    "    nclad=\"sio2\",\n",
    ")\n",
    "ng"
   ]
  },
  {
   "cell_type": "code",
   "execution_count": null,
   "id": "c2c01486-7d98-4240-9c82-ef6ae112bc34",
   "metadata": {},
   "outputs": [],
   "source": [
    "straight_sc = gf.partial(gs.models.straight, neff=neff, ng=ng)"
   ]
  },
  {
   "cell_type": "code",
   "execution_count": null,
   "id": "b984b918-7b58-44b7-b8f1-32a19ad7f46a",
   "metadata": {},
   "outputs": [],
   "source": [
    "gs.plot_model(straight_sc)\n",
    "plt.ylim(-1, 1)"
   ]
  },
  {
   "cell_type": "code",
   "execution_count": null,
   "id": "cd9cf620-92df-4e3a-a584-7417223a062c",
   "metadata": {},
   "outputs": [],
   "source": [
    "gs.plot_model(straight_sc, phase=True)"
   ]
  },
  {
   "cell_type": "markdown",
   "id": "4f665628-5cab-4e25-80a7-35642cbe92d5",
   "metadata": {},
   "source": [
    "### Coupler model\n",
    "\n",
    "Lets define the model for an evanescent coupler"
   ]
  },
  {
   "cell_type": "code",
   "execution_count": null,
   "id": "338bc43e-b53c-481f-8c8f-1b7fd40569ba",
   "metadata": {},
   "outputs": [],
   "source": [
    "c = gf.components.coupler(length=10, gap=0.2)\n",
    "c"
   ]
  },
  {
   "cell_type": "code",
   "execution_count": null,
   "id": "aab5bb05-96b6-4728-98e4-6a3fad0d17dc",
   "metadata": {},
   "outputs": [],
   "source": [
    "nm = 1e-3\n",
    "cp = gt.modes.WaveguideCoupler(\n",
    "        wavelength=1.55,\n",
    "        wg_width1=500 * nm,\n",
    "        wg_width2=500 * nm,\n",
    "        gap=200 * nm,\n",
    "        wg_thickness=220 * nm,\n",
    "        slab_thickness=0 * nm,\n",
    "        ncore=\"si\",\n",
    "        nclad=\"sio2\",\n",
    "    )\n",
    "cp.plot_Ex(0, plot_power=False) # even mode\n",
    "cp.plot_Ex(1, plot_power=False) # odd mode"
   ]
  },
  {
   "cell_type": "code",
   "execution_count": null,
   "id": "281b0de1-ceae-4e04-a004-4de0c94b3bdd",
   "metadata": {},
   "outputs": [],
   "source": [
    "help(gt.modes.find_coupling_vs_gap)"
   ]
  },
  {
   "cell_type": "code",
   "execution_count": null,
   "id": "fb877b9f-a86c-4aa9-973b-5ee361b6dbd5",
   "metadata": {},
   "outputs": [],
   "source": [
    "df = gt.modes.find_coupling_vs_gap(\n",
    "        wg_width1=500*nm,\n",
    "        wg_width2=500*nm,\n",
    "        wg_thickness=220 * nm,\n",
    "        slab_thickness=0 * nm,\n",
    "        ncore=\"si\",\n",
    "        nclad=\"sio2\",\n",
    "        steps=3\n",
    ")\n",
    "df"
   ]
  },
  {
   "cell_type": "markdown",
   "id": "3cc34541-5f73-462f-a3e6-42b56d7f3b7b",
   "metadata": {},
   "source": [
    "For a 200nm gap the effective index difference `dn` is `0.026`, which means that there is 100% power coupling over 29.4"
   ]
  },
  {
   "cell_type": "markdown",
   "id": "054c1248-bd96-4192-892f-981b4c6f121d",
   "metadata": {},
   "source": [
    "If we ignore the coupling from the bend `coupling0 = 0` we know that for a 3dB coupling we need half of the `lc` length, which is the length needed to coupler `100%` of power."
   ]
  },
  {
   "cell_type": "code",
   "execution_count": null,
   "id": "193184a3-ff6c-403c-b456-d43f45b1b1cd",
   "metadata": {},
   "outputs": [],
   "source": [
    "coupler_sc = gf.partial(gs.models.coupler, dn=0.026, length=29.4 / 2, coupling0=0)\n",
    "gs.plot_model(coupler_sc)"
   ]
  },
  {
   "cell_type": "markdown",
   "id": "6fc2a468-3275-4a26-a0c8-c99a10e90df2",
   "metadata": {},
   "source": [
    "## SAX gdsfactory Compatibility\n",
    "> From Layout to Circuit Model\n",
    "\n",
    "If you define your SAX S parameter models for your components, you can directly simulate your circuits from gdsfactory"
   ]
  },
  {
   "cell_type": "code",
   "execution_count": null,
   "id": "80da2a80-cfbe-442a-a201-7263fda8c6df",
   "metadata": {},
   "outputs": [],
   "source": [
    "mzi = gf.components.mzi(delta_length=10)\n",
    "mzi"
   ]
  },
  {
   "cell_type": "code",
   "execution_count": null,
   "id": "64287264-61d0-4d77-96cc-8401a140f3a0",
   "metadata": {},
   "outputs": [],
   "source": [
    "netlist = mzi.get_netlist()\n",
    "pprint(netlist[\"connections\"])"
   ]
  },
  {
   "cell_type": "markdown",
   "id": "2aa882fe-6b2e-499e-8370-e33e5a14f486",
   "metadata": {},
   "source": [
    "The netlist has three different components:\n",
    "\n",
    "1. straight\n",
    "2. mmi1x2\n",
    "3. bend_euler\n",
    "\n",
    "You need models for each subcomponents to simulate the Component."
   ]
  },
  {
   "cell_type": "code",
   "execution_count": null,
   "id": "4f497b61-d519-48cc-8a22-c6f51ede482f",
   "metadata": {},
   "outputs": [],
   "source": [
    "def straight(wl=1.5, length=10.0, neff=2.4) -> sax.SDict:\n",
    "    wl0 = 1.5  # center wavelength for which the waveguide model is defined\n",
    "    return sax.reciprocal({(\"o1\", \"o2\"): jnp.exp(2j * jnp.pi * neff * length / wl)})\n",
    "\n",
    "\n",
    "def mmi1x2():\n",
    "    \"\"\"Assumes a perfect 1x2 splitter\"\"\"\n",
    "    return sax.reciprocal(\n",
    "        {\n",
    "            (\"o1\", \"o2\"): 0.5**0.5,\n",
    "            (\"o1\", \"o3\"): 0.5**0.5,\n",
    "        }\n",
    "    )\n",
    "\n",
    "\n",
    "def bend_euler(wl=1.5, length=20.0):\n",
    "    \"\"\" \"Let's assume a reduced transmission for the euler bend compared to a straight\"\"\"\n",
    "    return {k: 0.99 * v for k, v in straight(wl=wl, length=length).items()}\n",
    "\n",
    "\n",
    "models = {\n",
    "    \"bend_euler\": bend_euler,\n",
    "    \"mmi1x2\": mmi1x2,\n",
    "    \"straight\": straight,\n",
    "}"
   ]
  },
  {
   "cell_type": "code",
   "execution_count": null,
   "id": "c05bf3d4-e3b9-483f-a6ac-002dec46bb90",
   "metadata": {},
   "outputs": [],
   "source": [
    "circuit, _ = sax.circuit(netlist=netlist, models=models)"
   ]
  },
  {
   "cell_type": "code",
   "execution_count": null,
   "id": "3267aaac-1af2-4cae-8b87-9abb7338068a",
   "metadata": {},
   "outputs": [],
   "source": [
    "wl = np.linspace(1.5, 1.6)\n",
    "S = circuit(wl=wl)\n",
    "\n",
    "plt.figure(figsize=(14, 4))\n",
    "plt.title(\"MZI\")\n",
    "plt.plot(1e3 * wl, jnp.abs(S[\"o1\", \"o2\"]) ** 2)\n",
    "plt.xlabel(\"λ [nm]\")\n",
    "plt.ylabel(\"T\")\n",
    "plt.grid(True)\n",
    "plt.show()"
   ]
  },
  {
   "cell_type": "code",
   "execution_count": null,
   "id": "980c2aa4-edca-4663-8777-193cbd6f1ece",
   "metadata": {},
   "outputs": [],
   "source": [
    "mzi = gf.components.mzi(delta_length=20)  # Double the length, reduces FSR by 1/2\n",
    "mzi"
   ]
  },
  {
   "cell_type": "code",
   "execution_count": null,
   "id": "e0661af0-0131-41fd-a197-9bcc9d04996a",
   "metadata": {},
   "outputs": [],
   "source": [
    "circuit, _ = sax.circuit(netlist=mzi.get_netlist(), models=models)\n",
    "\n",
    "wl = np.linspace(1.5, 1.6, 256)\n",
    "S = circuit(wl=wl)\n",
    "\n",
    "plt.figure(figsize=(14, 4))\n",
    "plt.title(\"MZI\")\n",
    "plt.plot(1e3 * wl, jnp.abs(S[\"o1\", \"o2\"]) ** 2)\n",
    "plt.xlabel(\"λ [nm]\")\n",
    "plt.ylabel(\"T\")\n",
    "plt.grid(True)\n",
    "plt.show()"
   ]
  },
  {
   "cell_type": "markdown",
   "id": "d51f18ec-0586-4bf2-93ee-22f6656fcd09",
   "metadata": {},
   "source": [
    "## Heater model\n",
    "\n",
    "You can make a phase shifter model that depends on the applied volage. For that you need first to figure out what's the model associated to your phase shifter, and what is the parameter that you need to tune."
   ]
  },
  {
   "cell_type": "code",
   "execution_count": null,
   "id": "d24fc622-6975-4d3d-8011-629bfce42abc",
   "metadata": {},
   "outputs": [],
   "source": [
    "delta_length = 10\n",
    "mzi_component = gf.components.mzi_phase_shifter_top_heater_metal(\n",
    "    delta_length=delta_length\n",
    ")\n",
    "fig = mzi_component.plot()"
   ]
  },
  {
   "cell_type": "code",
   "execution_count": null,
   "id": "163f7aae-8a83-4286-bccd-30ed13a1e71d",
   "metadata": {},
   "outputs": [],
   "source": [
    "def straight(wl=1.5, length=10.0, neff=2.4) -> sax.SDict:\n",
    "    wl0 = 1.5  # center wavelength for which the waveguide model is defined\n",
    "    return sax.reciprocal({(\"o1\", \"o2\"): jnp.exp(2j * jnp.pi * neff * length / wl)})\n",
    "\n",
    "\n",
    "def mmi1x2() -> sax.SDict:\n",
    "    \"\"\"Returns a perfect 1x2 splitter.\"\"\"\n",
    "    return sax.reciprocal(\n",
    "        {\n",
    "            (\"o1\", \"o2\"): 0.5**0.5,\n",
    "            (\"o1\", \"o3\"): 0.5**0.5,\n",
    "        }\n",
    "    )\n",
    "\n",
    "\n",
    "def bend_euler(wl=1.5, length=20.0) -> sax.SDict:\n",
    "    \"\"\"Returns bend Sparameters with reduced transmission compared to a straight.\"\"\"\n",
    "    return {k: 0.99 * v for k, v in straight(wl=wl, length=length).items()}\n",
    "\n",
    "\n",
    "def phase_shifter_heater(\n",
    "    wl: float = 1.55,\n",
    "    neff: float = 2.34,\n",
    "    voltage: float = 0,\n",
    "    length: float = 10,\n",
    "    loss: float = 0.0,\n",
    ") -> sax.SDict:\n",
    "    \"\"\"Returns simple phase shifter model\"\"\"\n",
    "    deltaphi = voltage * jnp.pi\n",
    "    phase = 2 * jnp.pi * neff * length / wl + deltaphi\n",
    "    amplitude = jnp.asarray(10 ** (-loss * length / 20), dtype=complex)\n",
    "    transmission = amplitude * jnp.exp(1j * phase)\n",
    "    sdict = sax.reciprocal(\n",
    "        {\n",
    "            (\"o1\", \"o2\"): transmission,\n",
    "        }\n",
    "    )\n",
    "    return sdict\n",
    "\n",
    "\n",
    "models = {\n",
    "    \"bend_euler\": bend_euler,\n",
    "    \"mmi1x2\": mmi1x2,\n",
    "    \"straight\": straight,\n",
    "    \"straight_heater_metal_undercut\": phase_shifter_heater,\n",
    "}"
   ]
  },
  {
   "cell_type": "code",
   "execution_count": null,
   "id": "9030fb6e-3ac6-4756-96c3-cc202b467cc4",
   "metadata": {},
   "outputs": [],
   "source": [
    "mzi_component = gf.components.mzi_phase_shifter_top_heater_metal(\n",
    "    delta_length=delta_length\n",
    ")\n",
    "netlist = mzi_component.get_netlist()\n",
    "mzi_circuit, _ = sax.circuit(netlist=netlist, models=models)\n",
    "S = mzi_circuit(wl=1.55)\n",
    "S"
   ]
  },
  {
   "cell_type": "code",
   "execution_count": null,
   "id": "e53ed40b-1b07-4c41-92ae-e6ae5ed49836",
   "metadata": {},
   "outputs": [],
   "source": [
    "wl = np.linspace(1.5, 1.6, 256)\n",
    "S = mzi_circuit(wl=wl)\n",
    "\n",
    "plt.figure(figsize=(14, 4))\n",
    "plt.title(\"MZI\")\n",
    "plt.plot(1e3 * wl, jnp.abs(S[\"o1\", \"o2\"]) ** 2)\n",
    "plt.xlabel(\"λ [nm]\")\n",
    "plt.ylabel(\"T\")\n",
    "plt.grid(True)\n",
    "plt.show()"
   ]
  },
  {
   "cell_type": "markdown",
   "id": "92cbb478-1c68-4cf0-b693-f873a74d79c8",
   "metadata": {},
   "source": [
    "Now you can tune the phase shift applied to one of the arms.\n",
    "\n",
    "How do you find out what's the name of the netlist component that you want to tune?\n",
    "\n",
    "You can backannotate the netlist and read the labels on the backannotated netlist or you can plot the netlist"
   ]
  },
  {
   "cell_type": "code",
   "execution_count": null,
   "id": "cd0e9f81-b19a-469d-8712-8c334006e24f",
   "metadata": {},
   "outputs": [],
   "source": [
    "mzi_component.plot_netlist()"
   ]
  },
  {
   "cell_type": "markdown",
   "id": "9a9c888c-0523-4985-ad84-26dbf4fa7891",
   "metadata": {},
   "source": [
    "As you can see the top phase shifter instance `sxt` is hard to see on the netlist.\n",
    "You can also reconstruct the component using the netlist and look at the labels in klayout."
   ]
  },
  {
   "cell_type": "code",
   "execution_count": null,
   "id": "4bc0d061-7ec4-4dad-bd22-f841ce7ff7a5",
   "metadata": {},
   "outputs": [],
   "source": [
    "mzi_yaml = mzi_component.get_netlist_yaml()\n",
    "mzi_component2 = gf.read.from_yaml(mzi_yaml)\n",
    "fig = mzi_component2.plot(label_aliases=True)"
   ]
  },
  {
   "cell_type": "markdown",
   "id": "da63cd80-761d-4962-ba16-0a6f8e39d10e",
   "metadata": {},
   "source": [
    "The best way to get a deterministic name of the `instance` is naming the reference on your Pcell."
   ]
  },
  {
   "cell_type": "code",
   "execution_count": null,
   "id": "8c687b43-a361-48c5-adc8-ac4d05f72e53",
   "metadata": {},
   "outputs": [],
   "source": [
    "voltages = np.linspace(-1, 1, num=5)\n",
    "voltages = [-0.5, 0, 0.5]\n",
    "\n",
    "for voltage in voltages:\n",
    "    S = mzi_circuit(\n",
    "        wl=wl,\n",
    "        sxt={\"voltage\": voltage},\n",
    "    )\n",
    "    plt.plot(wl * 1e3, abs(S[\"o1\", \"o2\"]) ** 2, label=f\"{voltage}V\")\n",
    "    plt.xlabel(\"λ [nm]\")\n",
    "    plt.ylabel(\"T\")\n",
    "    plt.ylim(-0.05, 1.05)\n",
    "    plt.grid(True)\n",
    "\n",
    "plt.title(\"MZI vs voltage\")\n",
    "plt.legend()"
   ]
  }
 ],
 "metadata": {
  "kernelspec": {
   "display_name": "Python 3 (ipykernel)",
   "language": "python",
   "name": "python3"
  },
  "language_info": {
   "codemirror_mode": {
    "name": "ipython",
    "version": 3
   },
   "file_extension": ".py",
   "mimetype": "text/x-python",
   "name": "python",
   "nbconvert_exporter": "python",
   "pygments_lexer": "ipython3",
   "version": "3.10.6"
  }
 },
 "nbformat": 4,
 "nbformat_minor": 5
}
