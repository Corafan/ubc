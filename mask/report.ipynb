{
 "cells": [
  {
   "cell_type": "markdown",
   "metadata": {},
   "source": [
    "# Process control monitors\n",
    "\n",
    "We make a mask with open source tools, to understand the Siepic PDK performance as well as the Ebeam process.\n",
    "\n",
    "Here is a list of the structures that we include:\n",
    "\n",
    "- low and high order MZI to extract group index and effective index\n",
    "- different length spirals to extract propagation loss (dB/cm)\n",
    "\n",
    "\n",
    "All the code used, included this report can be found in [this github repo](https://github.com/gdsfactory/ubc), which contains:\n",
    "\n",
    "- GDS layout and circuit models for the components\n",
    "- mask code to build GDS, together with JSON metadata\n",
    "\n",
    "\n",
    "## MZI interferometers for group index\n",
    "\n",
    "\n",
    "We follow the method described in <cite data-cite=\"7878742/KEWX6FXV\"></cite> <cite data-cite=\"7878742/YVJYDIND\"></cite>. Where we use a low and high order MZI to extract the group and effective index of the waveguide, from which we can extract the waveguide width and height\n"
   ]
  },
  {
   "cell_type": "code",
   "execution_count": null,
   "metadata": {
    "attributes": {
     "classes": [],
     "id": "",
     "n": "1"
    }
   },
   "outputs": [],
   "source": [
    "from ubc.mzi_circuit import mzi_simulation\n",
    "\n",
    "mzi_simulation(L1=50)"
   ]
  },
  {
   "cell_type": "code",
   "execution_count": null,
   "metadata": {},
   "outputs": [],
   "source": [
    "mzi_simulation(L1=100)"
   ]
  },
  {
   "cell_type": "markdown",
   "metadata": {},
   "source": [
    "# References\n",
    "\n",
    "- [citations](https://github.com/takluyver/cite2c)\n",
    "- [ubc pdk and mask github repo](https://github.com/gdsfactory/ubc)"
   ]
  },
  {
   "cell_type": "code",
   "execution_count": null,
   "metadata": {},
   "outputs": [],
   "source": []
  }
 ],
 "metadata": {
  "cite2c": {
   "citations": {
    "7878742/KEWX6FXV": {
     "DOI": "10.1364/OE.388149",
     "URL": "https://www.osapublishing.org/oe/abstract.cfm?uri=oe-28-6-7961",
     "abstract": "We describe the correlation between the measured width of silicon waveguides fabricated with 193 nm lithography and the local pattern density of the mask layout. In the fabrication process, pattern density can affect the composition of the plasma in a dry etching process or the abrasion rate in a planarization step. Using an optical test circuit to extract waveguide width and thickness, we sampled 5841 sites over a fabricated wafer. Using this detailed sampling, we could establish the correlation between the linewidth and average pattern density around the test circuit, as a function of the radius of influence. We find that the intra-die systematic width variation correlates most with the pattern density within a radius of 200 &#x00B5;m, with a correlation coefficient of 0.57. No correlation between pattern density and the intra-die systematic thickness variation is observed. These findings can be used to predict photonic circuit yield or to optimize the circuit layout to minimize the effect of local pattern density.",
     "accessed": {
      "day": 25,
      "month": 5,
      "year": 2020
     },
     "author": [
      {
       "family": "Xing",
       "given": "Yufei"
      },
      {
       "family": "Xing",
       "given": "Yufei"
      },
      {
       "family": "Xing",
       "given": "Yufei"
      },
      {
       "family": "Dong",
       "given": "Jiaxing"
      },
      {
       "family": "Dong",
       "given": "Jiaxing"
      },
      {
       "family": "Dong",
       "given": "Jiaxing"
      },
      {
       "family": "Khan",
       "given": "Umar"
      },
      {
       "family": "Khan",
       "given": "Umar"
      },
      {
       "family": "Bogaerts",
       "given": "Wim"
      },
      {
       "family": "Bogaerts",
       "given": "Wim"
      }
     ],
     "container-title": "Optics Express",
     "container-title-short": "Opt. Express, OE",
     "id": "7878742/KEWX6FXV",
     "issue": "6",
     "issued": {
      "day": 16,
      "month": 3,
      "year": 2020
     },
     "journalAbbreviation": "Opt. Express, OE",
     "language": "EN",
     "page": "7961-7968",
     "page-first": "7961",
     "title": "Correlation between pattern density and linewidth variation in silicon photonics waveguides",
     "type": "article-journal",
     "volume": "28"
    },
    "7878742/YVJYDIND": {
     "DOI": "10.1109/JSTQE.2019.2906271",
     "abstract": "We present a simulation framework for evaluating the effect of location-dependent variability in photonic integrated circuits. The framework combines a fast circuit simulator with circuit layout information and wafer maps of waveguide width and layer thickness variations to estimate the statistics of the circuit performance through Monte Carlo simulations. We illustrate this with ring resonator filters, a design sweep of Mach-Zehnder lattice filters, and the tolerance optimization of a Mach-Zehnder interferometer, and show how variability aware design can be essential for future photonic circuit design, especially in a fabless ecosystem where details of the foundry processes are not available to the designers.",
     "author": [
      {
       "family": "Bogaerts",
       "given": "Wim"
      },
      {
       "family": "Xing",
       "given": "Yufei"
      },
      {
       "family": "Khan",
       "given": "Umar"
      }
     ],
     "container-title": "IEEE Journal of Selected Topics in Quantum Electronics",
     "id": "7878742/YVJYDIND",
     "issue": "5",
     "issued": {
      "month": 9,
      "year": 2019
     },
     "page": "1-13",
     "page-first": "1",
     "title": "Layout-Aware Variability Analysis, Yield Prediction, and Optimization in Photonic Integrated Circuits",
     "type": "article-journal",
     "volume": "25"
    }
   }
  },
  "kernelspec": {
   "display_name": "Python 3",
   "language": "python",
   "name": "python3"
  },
  "language_info": {
   "codemirror_mode": {
    "name": "ipython",
    "version": 3
   },
   "file_extension": ".py",
   "mimetype": "text/x-python",
   "name": "python",
   "nbconvert_exporter": "python",
   "pygments_lexer": "ipython3",
   "version": "3.7.6"
  }
 },
 "nbformat": 4,
 "nbformat_minor": 2
}
