{
 "cells": [
  {
   "cell_type": "code",
   "execution_count": null,
   "metadata": {},
   "outputs": [],
   "source": [
    "import matplotlib.pyplot as plt\n",
    "import numpy as np\n",
    "from simphony.library import ebeam"
   ]
  },
  {
   "cell_type": "code",
   "execution_count": null,
   "metadata": {},
   "outputs": [],
   "source": [
    "bdc = ebeam.ebeam_bdc_te1550()\n",
    "w = np.linspace(1500, 1600)*1e-9\n",
    "f = 3e8/wav\n",
    "s = bdc.s_parameters(freq=f)\n",
    "plt.plot(w*1e9, np.abs(s[:, 0, 2])**2)\n",
    "plt.plot(w*1e9, np.abs(s[:, 0, 3])**2)"
   ]
  }
 ],
 "metadata": {},
 "nbformat": 4,
 "nbformat_minor": 2
}
