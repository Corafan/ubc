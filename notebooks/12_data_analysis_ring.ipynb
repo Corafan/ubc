{
 "cells": [
  {
   "cell_type": "markdown",
   "metadata": {},
   "source": [
    "# Data analysis ring\n",
    "\n",
    "We analyze the following ring samples from the edx course\n",
    "\n",
    "Double-bus ring resonators\n",
    "symmetrically coupled\n",
    "\n",
    "TE:\n",
    "R = [3]\n",
    "g = [50, 100, 150]\n",
    "\n",
    "R = [10]\n",
    "g = [50, 100, 150, 200]\n",
    "\n",
    "TM: \n",
    "R = [30]\n",
    "g = [150, 200, 250]"
   ]
  },
  {
   "cell_type": "code",
   "execution_count": null,
   "metadata": {
    "attributes": {
     "classes": [],
     "id": "",
     "n": "2"
    }
   },
   "outputs": [],
   "source": [
    "import matplotlib.pyplot as plt\n",
    "import numpy as np\n",
    "import ubc"
   ]
  },
  {
   "cell_type": "code",
   "execution_count": null,
   "metadata": {
    "attributes": {
     "classes": [],
     "id": "",
     "n": "3"
    }
   },
   "outputs": [],
   "source": [
    "w, p = ubc.da.read_mat(ubc.path.ring_te_r3_g100, port=0)\n",
    "plt.plot(w, p)"
   ]
  }
 ],
 "metadata": {},
 "nbformat": 4,
 "nbformat_minor": 4
}
