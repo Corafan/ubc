{
 "cells": [
  {
   "cell_type": "code",
   "execution_count": null,
   "metadata": {},
   "outputs": [],
   "source": [
    "import matplotlib.pyplot as plt\n",
    "import numpy as np\n",
    "import pp\n",
    "import ubc"
   ]
  },
  {
   "cell_type": "code",
   "execution_count": null,
   "metadata": {},
   "outputs": [],
   "source": [
    "c = ubc.add_gc(ubc.mzi())\n",
    "pp.write_gds(c, 'mzi.gds')\n",
    "# write_netlist('mzi.gds', 'mzi.nst')"
   ]
  }
 ],
 "metadata": {},
 "nbformat": 4,
 "nbformat_minor": 2
}
