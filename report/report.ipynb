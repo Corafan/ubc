{
 "cells": [
  {
   "cell_type": "markdown",
   "metadata": {},
   "source": [
    "---\n",
    "title: Process control monitors\n",
    "author: Joaquin Matres\n",
    "numbersections: true\n",
    "autoEqnLabels: true\n",
    "geometry:\n",
    "- top=30mm\n",
    "- left=20mm\n",
    "- right=20mm\n",
    "- bottom=30mm\n",
    "\n",
    "bibliography: library.bib\n",
    "---\n",
    "\n",
    "# Process control monitors\n",
    "\n",
    "We make a mask with open source tools, to understand the Siepic PDK performance\n",
    "as well as the Ebeam process.\n",
    "\n",
    "Here is a list of the structures that we include:\n",
    "\n",
    "- low and high order MZI to extract group index and effective index\n",
    "- different length spirals to extract propagation loss (dB/cm)\n",
    "\n",
    "\n",
    "All the code used, included this report can be found in [this github\n",
    "repo](https://github.com/gdsfactory/ubc), which contains:\n",
    "\n",
    "- GDS layout and circuit models for the components\n",
    "- mask code to build GDS, together with JSON metadata\n",
    "\n",
    "\n",
    "## MZI interferometers for group index\n",
    "\n",
    "We follow the method described in [@Xing2018] to extrac the group index and effective index.\n",
    "\n",
    "Where we use a low and high order MZI to extract the group and effective index of the waveguide, from which we can extract the waveguide width and height"
   ]
  },
  {
   "cell_type": "code",
   "execution_count": null,
   "metadata": {
    "attributes": {
     "classes": [],
     "id": "",
     "n": "1"
    }
   },
   "outputs": [],
   "source": [
    "from ubc.mzi_circuit import mzi_simulation\n",
    "\n",
    "mzi_simulation(L1=50)"
   ]
  },
  {
   "cell_type": "code",
   "execution_count": null,
   "metadata": {},
   "outputs": [],
   "source": [
    "mzi_simulation(L1=100)"
   ]
  },
  {
   "cell_type": "markdown",
   "metadata": {},
   "source": [
    "# Links\n",
    "\n",
    "- [citations](https://github.com/takluyver/cite2c)\n",
    "- [reference paper](https://opensource.com/article/18/9/pandoc-research-paper)\n",
    "- [ubc pdk and mask github repo](https://github.com/gdsfactory/ubc)\n",
    "\n",
    "\n",
    "# References"
   ]
  }
 ],
 "metadata": {},
 "nbformat": 4,
 "nbformat_minor": 2
}
